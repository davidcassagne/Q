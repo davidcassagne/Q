{
 "cells": [
  {
   "cell_type": "markdown",
   "metadata": {},
   "source": [
    "# DEMO from 0 to QISKit"
   ]
  },
  {
   "cell_type": "markdown",
   "metadata": {},
   "source": [
    "# A. No QISKit : python, complexity"
   ]
  },
  {
   "cell_type": "markdown",
   "metadata": {},
   "source": [
    "## Jupyter"
   ]
  },
  {
   "cell_type": "code",
   "execution_count": 67,
   "metadata": {},
   "outputs": [],
   "source": [
    "a = 30"
   ]
  },
  {
   "cell_type": "code",
   "execution_count": 68,
   "metadata": {},
   "outputs": [
    {
     "name": "stdout",
     "output_type": "stream",
     "text": [
      "30\n"
     ]
    }
   ],
   "source": [
    "print(a)"
   ]
  },
  {
   "cell_type": "markdown",
   "metadata": {},
   "source": [
    "## Python"
   ]
  },
  {
   "cell_type": "markdown",
   "metadata": {},
   "source": [
    "### Import"
   ]
  },
  {
   "cell_type": "code",
   "execution_count": null,
   "metadata": {},
   "outputs": [],
   "source": [
    "from math import sqrt\n",
    "a = 2\n",
    "'''\n",
    "the following line will generate an error : \n",
    "\"name 'sqrt' is not defined\"\n",
    "untill the very first line is un-commented \n",
    "'''\n",
    "b = sqrt(a)\n",
    "print(b)"
   ]
  },
  {
   "cell_type": "markdown",
   "metadata": {},
   "source": [
    "### Loop, test, and Monte-Carlo"
   ]
  },
  {
   "cell_type": "code",
   "execution_count": null,
   "metadata": {},
   "outputs": [],
   "source": [
    "import random\n",
    "import time\n",
    "\n",
    "start_time = time.time()\n",
    "\n",
    "#---> calculation starts here\n",
    "iterations = 2_000_000                                 # change this for accuracy vs duration \n",
    "hit = 0                                                 # counter of random hits with module < 1 \n",
    "for i in range(iterations):\n",
    "    if random.random()**2 + random.random()**2 < 1:     # random(a,b) returns a pseudo random float between a and b\n",
    "        hit += 1\n",
    "#---> calulation ends here\n",
    "     \n",
    "    \n",
    "end_time = time.time()\n",
    "duration = end_time - start_time\n",
    "\n",
    "print(f\"Total execution time: {duration:.1f} seconds\")\n",
    "print(f\"Pi = {4 * hit / iterations}\")"
   ]
  },
  {
   "cell_type": "markdown",
   "metadata": {},
   "source": [
    "### Plotting"
   ]
  },
  {
   "cell_type": "code",
   "execution_count": null,
   "metadata": {},
   "outputs": [],
   "source": [
    "import matplotlib.pyplot as plt\n",
    "import math\n",
    "\n",
    "a = [x for x in range(100)]\n",
    "\n",
    "b = [x**2 for x in range(100)]\n",
    "c = [80 * x * math.cos(x / 5) for x in range(100)]\n",
    "d = [1000 * math.log2(x+1) for x in range(100)]\n",
    "\n",
    "plt.plot(a,b, color=\"blue\")\n",
    "plt.plot(a,c, color=\"red\")\n",
    "plt.plot(a,d, color=\"green\")\n",
    "\n",
    "plt.grid\n",
    "plt.show\n"
   ]
  },
  {
   "cell_type": "markdown",
   "metadata": {},
   "source": [
    "## Computing can become huge"
   ]
  },
  {
   "cell_type": "markdown",
   "metadata": {},
   "source": [
    "### finding the factors of a large integer"
   ]
  },
  {
   "cell_type": "code",
   "execution_count": null,
   "metadata": {},
   "outputs": [],
   "source": [
    "import time\n",
    "from math import sqrt,floor\n",
    "\n",
    "start_time = time.time()\n",
    "# choose one (depending on your ratio patience/CPU)\n",
    "d =         6721502531819 #(~0.4 sec)  (13)\n",
    "#d =    40355369611024687 #(~30 sec)   (17)\n",
    "#d = 70552560783426882343 #(~2100 sec) (20)\n",
    "\n",
    "maxCalc = floor(sqrt(d))\n",
    "\n",
    "for i in range(2,maxCalc):\n",
    "    if d % i == 0:\n",
    "        print(i)\n",
    "        break\n",
    "\n",
    "end_time = time.time()\n",
    "duration = end_time - start_time\n",
    "print(f\"Total execution time: {duration:.1f} seconds\")\n",
    "print(f\"Loops per second {i / duration:.0f}\")"
   ]
  },
  {
   "cell_type": "markdown",
   "metadata": {},
   "source": [
    "# B. QISKit, no Quantum, single qbit"
   ]
  },
  {
   "cell_type": "markdown",
   "metadata": {},
   "source": [
    "#### imports"
   ]
  },
  {
   "cell_type": "code",
   "execution_count": 69,
   "metadata": {},
   "outputs": [],
   "source": [
    "from qiskit import QuantumCircuit, ClassicalRegister, QuantumRegister\n",
    "from qiskit import execute"
   ]
  },
  {
   "cell_type": "markdown",
   "metadata": {},
   "source": [
    "#### define needed registers and build quantum circuit"
   ]
  },
  {
   "cell_type": "code",
   "execution_count": 70,
   "metadata": {},
   "outputs": [],
   "source": [
    "qr = QuantumRegister(1)\n",
    "cr = ClassicalRegister(1)"
   ]
  },
  {
   "cell_type": "markdown",
   "metadata": {},
   "source": [
    "## <span style=\"color:red\"><em>Example 1 : IDENTITY</em></span>"
   ]
  },
  {
   "cell_type": "code",
   "execution_count": null,
   "metadata": {},
   "outputs": [],
   "source": [
    "qc_id = QuantumCircuit(qr,cr)"
   ]
  },
  {
   "cell_type": "code",
   "execution_count": null,
   "metadata": {},
   "outputs": [],
   "source": [
    "qc_id.iden(qr[0])"
   ]
  },
  {
   "cell_type": "code",
   "execution_count": null,
   "metadata": {
    "scrolled": true
   },
   "outputs": [],
   "source": [
    "qc_id.measure(qr,cr)"
   ]
  },
  {
   "cell_type": "code",
   "execution_count": null,
   "metadata": {},
   "outputs": [],
   "source": [
    "from qiskit.tools.visualization import matplotlib_circuit_drawer\n",
    "\n",
    "matplotlib_circuit_drawer(qc_id)"
   ]
  },
  {
   "cell_type": "markdown",
   "metadata": {},
   "source": [
    "### prepare for execution"
   ]
  },
  {
   "cell_type": "code",
   "execution_count": null,
   "metadata": {
    "scrolled": true
   },
   "outputs": [],
   "source": [
    "from qiskit import Aer\n",
    "print(Aer.backends())\n",
    "backend = Aer.get_backend('qasm_simulator')"
   ]
  },
  {
   "cell_type": "markdown",
   "metadata": {},
   "source": [
    "### execute, and read resutls"
   ]
  },
  {
   "cell_type": "code",
   "execution_count": null,
   "metadata": {},
   "outputs": [],
   "source": [
    "job = execute(qc_id,backend, shots=1024)\n",
    "result = job.result()\n",
    "result.get_counts(qc_id)"
   ]
  },
  {
   "cell_type": "code",
   "execution_count": null,
   "metadata": {
    "scrolled": false
   },
   "outputs": [],
   "source": [
    "from qiskit.tools.visualization import plot_histogram\n",
    "plot_histogram(result.get_counts(qc_id))"
   ]
  },
  {
   "cell_type": "markdown",
   "metadata": {},
   "source": [
    "## <span style=\"color:red\"><em>Example 2: NOT (bit flip)</em></span>"
   ]
  },
  {
   "cell_type": "code",
   "execution_count": null,
   "metadata": {},
   "outputs": [],
   "source": [
    "qc_not = QuantumCircuit(qr,cr)"
   ]
  },
  {
   "cell_type": "code",
   "execution_count": null,
   "metadata": {},
   "outputs": [],
   "source": [
    "qc_not.x(qr[0])"
   ]
  },
  {
   "cell_type": "code",
   "execution_count": null,
   "metadata": {
    "scrolled": true
   },
   "outputs": [],
   "source": [
    "qc_not.measure(qr,cr)"
   ]
  },
  {
   "cell_type": "code",
   "execution_count": null,
   "metadata": {},
   "outputs": [],
   "source": [
    "matplotlib_circuit_drawer(qc_not)"
   ]
  },
  {
   "cell_type": "code",
   "execution_count": null,
   "metadata": {},
   "outputs": [],
   "source": [
    "job = execute(qc_not,backend, shots=1024)\n",
    "result = job.result()\n",
    "result.get_counts(qc_not)"
   ]
  },
  {
   "cell_type": "code",
   "execution_count": null,
   "metadata": {
    "scrolled": true
   },
   "outputs": [],
   "source": [
    "from qiskit.tools.visualization import plot_histogram\n",
    "plot_histogram(result.get_counts(qc_not))"
   ]
  },
  {
   "cell_type": "markdown",
   "metadata": {},
   "source": [
    "# C. QISKit, no Quantum, multi-qbit gates"
   ]
  },
  {
   "cell_type": "markdown",
   "metadata": {},
   "source": [
    "## <span style=\"color:red\"><em>Example 3: CNOT controlled not </em></span>\n",
    "\n",
    "flips state of qbit b if qbit a is 1 (else leave b in original state)"
   ]
  },
  {
   "cell_type": "code",
   "execution_count": null,
   "metadata": {},
   "outputs": [],
   "source": [
    "qr = QuantumRegister(2)\n",
    "cr = ClassicalRegister(2)"
   ]
  },
  {
   "cell_type": "code",
   "execution_count": null,
   "metadata": {
    "scrolled": false
   },
   "outputs": [],
   "source": [
    "qc_cnot = QuantumCircuit(qr,cr)\n",
    "qc_cnot.x(qr[0])\n",
    "qc_cnot.cx(qr[0],qr[1])\n",
    "qc_cnot.measure(qr,cr)\n",
    "matplotlib_circuit_drawer(qc_cnot)"
   ]
  },
  {
   "cell_type": "code",
   "execution_count": null,
   "metadata": {},
   "outputs": [],
   "source": [
    "job = execute(qc_cnot,backend, shots=1024)\n",
    "result = job.result()\n",
    "result.get_counts(qc_cnot)"
   ]
  },
  {
   "cell_type": "code",
   "execution_count": null,
   "metadata": {
    "scrolled": false
   },
   "outputs": [],
   "source": [
    "plot_histogram(result.get_counts(qc_cnot))"
   ]
  },
  {
   "cell_type": "markdown",
   "metadata": {},
   "source": [
    "## <span style=\"color:red\"><em>Example 4: SWAP</em></span>\n",
    "\n",
    "Swaps states of qbit a with state of qbit b"
   ]
  },
  {
   "cell_type": "code",
   "execution_count": null,
   "metadata": {},
   "outputs": [],
   "source": [
    "qc_swap = QuantumCircuit(qr,cr)\n",
    "#qc_swap.x(qr[0])\n",
    "qc_swap.cx(qr[0],qr[1])\n",
    "qc_swap.cx(qr[1],qr[0])\n",
    "qc_swap.cx(qr[0],qr[1])\n",
    "qc_swap.measure(qr,cr)\n",
    "matplotlib_circuit_drawer(qc_swap)"
   ]
  },
  {
   "cell_type": "code",
   "execution_count": null,
   "metadata": {},
   "outputs": [],
   "source": [
    "job = execute(qc_swap,backend, shots=1024)\n",
    "result = job.result()\n",
    "result.get_counts(qc_swap)\n",
    "plot_histogram(result.get_counts(qc_swap))"
   ]
  },
  {
   "cell_type": "code",
   "execution_count": null,
   "metadata": {},
   "outputs": [],
   "source": [
    "qc_swap = QuantumCircuit(qr,cr)\n",
    "qc_swap.x(qr[1])\n",
    "qc_swap.cx(qr[0],qr[1])\n",
    "qc_swap.cx(qr[1],qr[0])\n",
    "qc_swap.cx(qr[0],qr[1])\n",
    "qc_swap.measure(qr,cr)\n",
    "matplotlib_circuit_drawer(qc_swap)"
   ]
  },
  {
   "cell_type": "code",
   "execution_count": null,
   "metadata": {},
   "outputs": [],
   "source": [
    "job = execute(qc_swap,backend, shots=1024)\n",
    "result = job.result()\n",
    "result.get_counts(qc_swap)\n",
    "plot_histogram(result.get_counts(qc_swap))"
   ]
  },
  {
   "cell_type": "markdown",
   "metadata": {},
   "source": [
    "## <span style=\"color:red\"><em>Example 5: CONTROL-CONTROL-NOT Toffoli gate</em></span>\n",
    "\n",
    "if a = 1 and b = 1, then flip c\n",
    "\n",
    "Note: Toffoli is universal"
   ]
  },
  {
   "cell_type": "code",
   "execution_count": null,
   "metadata": {},
   "outputs": [],
   "source": [
    "qr = QuantumRegister(3)\n",
    "cr = ClassicalRegister(3)"
   ]
  },
  {
   "cell_type": "code",
   "execution_count": null,
   "metadata": {
    "scrolled": true
   },
   "outputs": [],
   "source": [
    "qc_ccnot = QuantumCircuit(qr,cr)\n",
    "qc_ccnot.x(qr[0])\n",
    "qc_ccnot.ccx(qr[0],qr[1],qr[2])\n",
    "qc_ccnot.measure(qr,cr)\n",
    "matplotlib_circuit_drawer(qc_ccnot)"
   ]
  },
  {
   "cell_type": "code",
   "execution_count": null,
   "metadata": {},
   "outputs": [],
   "source": [
    "job = execute(qc_ccnot,backend, shots=1024)\n",
    "result = job.result()\n",
    "result.get_counts(qc_ccnot)\n",
    "plot_histogram(result.get_counts(qc_ccnot))"
   ]
  },
  {
   "cell_type": "code",
   "execution_count": null,
   "metadata": {
    "scrolled": true
   },
   "outputs": [],
   "source": [
    "qc_ccnot = QuantumCircuit(qr,cr)\n",
    "qc_ccnot.x(qr[0])\n",
    "qc_ccnot.x(qr[1])\n",
    "qc_ccnot.ccx(qr[0],qr[1],qr[2])\n",
    "qc_ccnot.measure(qr,cr)\n",
    "matplotlib_circuit_drawer(qc_ccnot)"
   ]
  },
  {
   "cell_type": "code",
   "execution_count": null,
   "metadata": {},
   "outputs": [],
   "source": [
    "job = execute(qc_ccnot,backend, shots=1024)\n",
    "result = job.result()\n",
    "result.get_counts(qc_ccnot)\n",
    "plot_histogram(result.get_counts(qc_ccnot))"
   ]
  },
  {
   "cell_type": "markdown",
   "metadata": {},
   "source": [
    "## <span style=\"color:red\"><em>Example 6: CONTROL-SWAP : Fredkin gate</em></span>\n",
    "\n",
    "if a = 1 then swap b and c states.\n",
    "\n",
    "Note: Quantum gates are reversible. "
   ]
  },
  {
   "cell_type": "code",
   "execution_count": null,
   "metadata": {
    "scrolled": true
   },
   "outputs": [],
   "source": [
    "qc_cswap = QuantumCircuit(qr,cr)\n",
    "qc_cswap.x(qr[0])\n",
    "qc_cswap.x(qr[1])\n",
    "qc_cswap.cswap(qr[0],qr[1],qr[2])\n",
    "qc_cswap.measure(qr,cr)\n",
    "matplotlib_circuit_drawer(qc_cswap)"
   ]
  },
  {
   "cell_type": "code",
   "execution_count": null,
   "metadata": {
    "scrolled": true
   },
   "outputs": [],
   "source": [
    "job = execute(qc_cswap,backend, shots=1024)\n",
    "result = job.result()\n",
    "result.get_counts(qc_cswap)\n",
    "plot_histogram(result.get_counts(qc_cswap))"
   ]
  },
  {
   "cell_type": "markdown",
   "metadata": {},
   "source": [
    "# D. Some Quantum computing"
   ]
  },
  {
   "cell_type": "markdown",
   "metadata": {},
   "source": [
    "##  <span style=\"color:red\"><em>Single qbit : \"superpositon\"</em></span>"
   ]
  },
  {
   "cell_type": "code",
   "execution_count": null,
   "metadata": {},
   "outputs": [],
   "source": [
    "qr = QuantumRegister(1)\n",
    "cr = ClassicalRegister(1)\n",
    "qc_sup = QuantumCircuit(qr,cr)\n",
    "qc_sup.h(qr[0])\n",
    "qc_sup.measure(qr,cr)\n",
    "matplotlib_circuit_drawer(qc_sup)"
   ]
  },
  {
   "cell_type": "code",
   "execution_count": null,
   "metadata": {},
   "outputs": [],
   "source": [
    "job = execute(qc_sup,backend, shots=1024)\n",
    "result = job.result()\n",
    "result.get_counts(qc_sup)\n",
    "plot_histogram(result.get_counts(qc_sup))"
   ]
  },
  {
   "cell_type": "markdown",
   "metadata": {},
   "source": [
    "<img src=\"./images/h_bloch2.png\" alt=\"Note: In order for images to show up in this jupyter notebook you need to select File => Trusted Notebook\" width=\"350 px\" align=\"left\">"
   ]
  },
  {
   "cell_type": "markdown",
   "metadata": {},
   "source": [
    "##  <span style=\"color:red\"><em>What is superposition exactly ?</em></span>"
   ]
  },
  {
   "cell_type": "code",
   "execution_count": null,
   "metadata": {},
   "outputs": [],
   "source": [
    "qr = QuantumRegister(1)\n",
    "cr = ClassicalRegister(1)\n",
    "qc_sup = QuantumCircuit(qr,cr)\n",
    "qc_sup.h(qr[0])\n",
    "qc_sup.h(qr[0])\n",
    "qc_sup.measure(qr,cr)\n",
    "matplotlib_circuit_drawer(qc_sup)"
   ]
  },
  {
   "cell_type": "code",
   "execution_count": 80,
   "metadata": {},
   "outputs": [
    {
     "data": {
      "image/png": "[encoded data removed]",
      "text/plain": [
       "<Figure size 432x288 with 1 Axes>"
      ]
     },
     "metadata": {
      "needs_background": "light"
     },
     "output_type": "display_data"
    }
   ],
   "source": [
    "job = execute(qc_sup,backend, shots=1024)\n",
    "result = job.result()\n",
    "result.get_counts(qc_sup)\n",
    "plot_histogram(result.get_counts(qc_sup))"
   ]
  },
  {
   "cell_type": "markdown",
   "metadata": {},
   "source": [
    "\n",
    "<br>\n",
    "Let's define states |0⟩, |1⟩ as unitary basis vectors in a two dimensional space, we can write them in this form: \n",
    "\n",
    "\\begin{equation}\n",
    "|0⟩ = \n",
    "\\left(\n",
    "\\begin{array}{cc}\n",
    " 1 \\\\\n",
    " 0 \\\\\n",
    "\\end{array}\n",
    "\\right)\n",
    "\\hspace{1cm}\n",
    "|1⟩ = \n",
    "\\left(\n",
    "\\begin{array}{cc}\n",
    " 0 \\\\\n",
    " 1 \\\\\n",
    "\\end{array}\n",
    "\\right)\n",
    "\\hspace{1cm}\n",
    "\\end{equation}\n",
    "\n",
    "Then we define H (Hadamard operator) with this matrix : \n",
    "\n",
    "\n",
    "\\begin{equation}\n",
    "H = \\frac{1}{\\sqrt{2}}\n",
    "\\left(\n",
    "\\begin{array}{cc}\n",
    " 1 & 1  \\\\\n",
    " 1 & -1  \\\\\n",
    "\\end{array}\n",
    "\\right)\n",
    "\\hspace{1cm}\n",
    "\\end{equation}\n",
    "\n",
    "\n",
    "It is easy to verify that : \n",
    "\n",
    "\n",
    "\\begin{equation}\n",
    "H|0⟩ = \\frac{1}{\\sqrt{2}} \n",
    "\\left(\n",
    "\\begin{array}{cc}\n",
    " 1 \\\\\n",
    " 1 \\\\\n",
    "\\end{array}\n",
    "\\right)\n",
    "\\end{equation}\n",
    "\n",
    "also, if we multiply this result again by H, we will find : \n",
    "\\begin{equation}\n",
    "HH|0⟩ =\n",
    "\\left(\n",
    "\\begin{array}{cc}\n",
    " 1 \\\\\n",
    " 0 \\\\\n",
    "\\end{array}\n",
    "\\right)\n",
    "\\end{equation}\n",
    "\n",
    "That is :\n",
    "\n",
    "\\begin{equation} \n",
    "HH|0⟩ = |0⟩\n",
    "\\end{equation}\n",
    "\n",
    "Which makes sense because it is also easy to verify that : \n",
    "\n",
    "\\begin{equation} \n",
    "H^2 = I\n",
    "\\end{equation}\n",
    "\n",
    "where:\n",
    "\n",
    "\\begin{equation}\n",
    "I = \n",
    "\\left(\n",
    "\\begin{array}{cc}\n",
    " 1 & 0 \\\\\n",
    " 0 & 1 \\\\\n",
    "\\end{array}\n",
    "\\right)\n",
    "\\end{equation}"
   ]
  },
  {
   "cell_type": "code",
   "execution_count": null,
   "metadata": {},
   "outputs": [],
   "source": []
  },
  {
   "cell_type": "markdown",
   "metadata": {},
   "source": [
    "##  <span style=\"color:red\"><em>Multi qbit : entanglement</em></span>"
   ]
  },
  {
   "cell_type": "code",
   "execution_count": 71,
   "metadata": {},
   "outputs": [
    {
     "data": {
      "image/png": "[encoded data removed]",
      "text/plain": [
       "<Figure size 421.4x258.86 with 1 Axes>"
      ]
     },
     "metadata": {},
     "output_type": "display_data"
    }
   ],
   "source": [
    "qr = QuantumRegister(2)\n",
    "cr = ClassicalRegister(2)\n",
    "qc_bell = QuantumCircuit(qr,cr)\n",
    "qc_bell.h(qr[0])\n",
    "qc_bell.cx(qr[0],qr[1])\n",
    "qc_bell.measure(qr,cr)\n",
    "matplotlib_circuit_drawer(qc_bell)"
   ]
  },
  {
   "cell_type": "code",
   "execution_count": 72,
   "metadata": {},
   "outputs": [
    {
     "data": {
      "image/png": "[encoded data removed]",
      "text/plain": [
       "<Figure size 432x288 with 1 Axes>"
      ]
     },
     "metadata": {
      "needs_background": "light"
     },
     "output_type": "display_data"
    }
   ],
   "source": [
    "job = execute(qc_bell,backend, shots=1024)\n",
    "result = job.result()\n",
    "result.get_counts(qc_bell)\n",
    "plot_histogram(result.get_counts(qc_bell))"
   ]
  },
  {
   "cell_type": "markdown",
   "metadata": {},
   "source": [
    "### What does this mean ? ... \n",
    "\n",
    "This is called a Bell state and can be written as : \n",
    "\n",
    "\\begin{equation} \n",
    "|Bell⟩ = \\frac{1}{\\sqrt{2}}\\left(|00⟩ + |11⟩ \\right) \n",
    "\\end{equation}\n",
    "\n",
    "Let's assume we can factor it (find two states the product of which is the Bell state), for example: \n",
    "\n",
    "\\begin{equation} \n",
    "|\\phi⟩ = a|0⟩ + (b+ic)|1⟩  \n",
    "\\end{equation}\n",
    "and \n",
    "\\begin{equation} \n",
    "|\\psi⟩ = d|0⟩ + (e+if)|1⟩  \n",
    "\\end{equation}\n",
    "\n",
    "Then: \n",
    "\\begin{equation} \n",
    "|\\phi⟩|\\psi⟩ = (ad|00⟩ + (ae + iaf)|01⟩ + (db+idc)|10⟩ + (b+ic)(e+if)|11⟩)  \n",
    "\\end{equation}\n",
    "\n",
    "As |00⟩, |01⟩, |10⟩, |11⟩ are basis vectors, we can derive:  \n",
    "\n",
    "\\begin{equation}\n",
    "ad = \\frac{1}{\\sqrt{2}}\n",
    "\\end{equation}\n",
    "\\begin{equation}\n",
    "ae + iaf = 0\n",
    "\\end{equation}\n",
    "\\begin{equation}\n",
    "db + idc = 0\n",
    "\\end{equation}\n",
    "\\begin{equation}\n",
    "be - cf + i(bf+ce) = \\frac{1}{\\sqrt{2}}\n",
    "\\end{equation}\n",
    "\n",
    "a and d are both not null, then e = f = b = c = 0, with that be - cf = 0, but this does not work with : \n",
    "\\begin{equation}\n",
    "be - cf = \\frac{1}{\\sqrt{2}}\n",
    "\\end{equation}\n",
    "\n",
    "Proving that the Bell state cannot be written as a product state. \n",
    "\n",
    "\n",
    "### ... it means we cannot know anything about the separate components of the entangled system, we can only know about the whole."
   ]
  },
  {
   "cell_type": "markdown",
   "metadata": {},
   "source": [
    "##  <span style=\"color:red\"><em>Bell state : run on actual quantum hardware</em></span>\n"
   ]
  },
  {
   "cell_type": "code",
   "execution_count": 73,
   "metadata": {},
   "outputs": [],
   "source": [
    "# sign on to IBM Q Experience, get your API Token, write it in a file (eg Qconfig.py), in a line:  \n",
    "# APItoken = '<your_API_token'>\n",
    "\n",
    "import Qconfig\n",
    "\n",
    "#  now I can use Qconfig.APItoken to get the API key value "
   ]
  },
  {
   "cell_type": "code",
   "execution_count": 74,
   "metadata": {},
   "outputs": [
    {
     "name": "stderr",
     "output_type": "stream",
     "text": [
      "/Users/jm-torres/anaconda3/envs/qiskit/lib/python3.7/site-packages/qiskit/backends/ibmq/ibmqprovider.py:258: UserWarning: Credentials are already in use.\n",
      "  warnings.warn('Credentials are already in use.')\n"
     ]
    }
   ],
   "source": [
    "from qiskit import IBMQ\n",
    "IBMQ.enable_account(Qconfig.APItoken)"
   ]
  },
  {
   "cell_type": "code",
   "execution_count": 77,
   "metadata": {},
   "outputs": [],
   "source": [
    "# my_back_end = IBMQ.get_backend('ibmq_5_tenerife')\n",
    "my_back_end = IBMQ.get_backend('ibmq_16_melbourne')"
   ]
  },
  {
   "cell_type": "code",
   "execution_count": 78,
   "metadata": {},
   "outputs": [
    {
     "name": "stdout",
     "output_type": "stream",
     "text": [
      "{'pending_jobs': 0, 'name': 'ibmq_16_melbourne', 'operational': True}\n"
     ]
    }
   ],
   "source": [
    "print(my_back_end.status())"
   ]
  },
  {
   "cell_type": "code",
   "execution_count": 79,
   "metadata": {},
   "outputs": [
    {
     "data": {
      "image/png": "[encoded data removed]",
      "text/plain": [
       "<Figure size 432x288 with 1 Axes>"
      ]
     },
     "metadata": {
      "needs_background": "light"
     },
     "output_type": "display_data"
    }
   ],
   "source": [
    "job = execute(qc_bell,my_back_end, shots=1024)\n",
    "result = job.result()\n",
    "result.get_counts(qc_bell)\n",
    "plot_histogram(result.get_counts(qc_bell))"
   ]
  },
  {
   "cell_type": "markdown",
   "metadata": {},
   "source": [
    "##  <span style=\"color:red\"><em>Bernstein-Vazirani : \"oracle\"</em></span>\n",
    "### towards computing"
   ]
  },
  {
   "cell_type": "code",
   "execution_count": null,
   "metadata": {},
   "outputs": [],
   "source": [
    "q = QuantumRegister(8)\n",
    "tmp = QuantumRegister(1)\n",
    "res = ClassicalRegister(8)"
   ]
  },
  {
   "cell_type": "code",
   "execution_count": null,
   "metadata": {},
   "outputs": [],
   "source": [
    "# secret = 1101\n",
    "s = 13\n",
    "oracle = QuantumCircuit(q,tmp,res)"
   ]
  },
  {
   "cell_type": "code",
   "execution_count": null,
   "metadata": {},
   "outputs": [],
   "source": [
    "for i in range(len(q)):\n",
    "    if ( s & (1 << i) ):\n",
    "        oracle.cx(q[i],tmp[0])"
   ]
  },
  {
   "cell_type": "code",
   "execution_count": null,
   "metadata": {},
   "outputs": [],
   "source": [
    "bv = QuantumCircuit(q,tmp,res)\n",
    "bv.x(tmp[0])\n",
    "bv.h(q)\n",
    "bv.h(tmp)\n",
    "bv += oracle\n",
    "bv.h(q)\n",
    "bv.h(tmp)\n",
    "bv.measure(q,res)"
   ]
  },
  {
   "cell_type": "code",
   "execution_count": null,
   "metadata": {},
   "outputs": [],
   "source": [
    "matplotlib_circuit_drawer(bv)"
   ]
  },
  {
   "cell_type": "code",
   "execution_count": null,
   "metadata": {},
   "outputs": [],
   "source": [
    "my_job = execute([bv], backend, shots=100)"
   ]
  },
  {
   "cell_type": "code",
   "execution_count": null,
   "metadata": {},
   "outputs": [],
   "source": [
    "result = my_job.result()\n",
    "result.get_counts(bv)\n",
    "print(result.get_counts(bv))\n",
    "from qiskit.tools.visualization import plot_histogram\n",
    "plot_histogram (result.get_counts(bv))"
   ]
  },
  {
   "cell_type": "markdown",
   "metadata": {},
   "source": [
    "# E. Further readings"
   ]
  },
  {
   "cell_type": "markdown",
   "metadata": {},
   "source": [
    "## <a href=\"https://www.research.ibm.com/ibm-q/\">IBM Q informations, resources</a>\n",
    "\n",
    "<img src=\"./images/IBMQ.png\" alt=\"Note: In order for images to show up in this jupyter notebook you need to select File => Trusted Notebook\" width=\"800 px\" align=\"left\">\n"
   ]
  },
  {
   "cell_type": "markdown",
   "metadata": {},
   "source": [
    "### <a href=\"https://qiskit.org/\">QISKit : documentations, tutorials, GitHub</a>\n",
    "\n",
    "<img src=\"./images/qiskitOrg.png\" alt=\"Note: In order for images to show up in this jupyter notebook you need to select File => Trusted Notebook\" width=\"800 px\" align=\"left\">\n",
    "\n"
   ]
  },
  {
   "cell_type": "markdown",
   "metadata": {},
   "source": [
    "## <a href=\"https://www.youtube.com/channel/UClBNq7mCMf5xm8baE_VMl3A\">QISKit channel on Youtube</a>\n",
    "<img src=\"./images/qiskitYoutube.png\" alt=\"Note: In order for images to show up in this jupyter notebook you need to select File => Trusted Notebook\" width=\"800 px\" align=\"left\">\n"
   ]
  },
  {
   "cell_type": "markdown",
   "metadata": {},
   "source": [
    "### <a href=\"https://fr.wikipedia.org/wiki/Calculateur_quantique\">Wikipedia: Calculateur Quantique</a>\n",
    "<img src=\"./images/QCWikipedia.png\" alt=\"Note: In order for images to show up in this jupyter notebook you need to select File => Trusted Notebook\" width=\"800 px\" align=\"left\">"
   ]
  },
  {
   "cell_type": "markdown",
   "metadata": {},
   "source": [
    "## Leonard Susskind, Art Freidman: Mécanique Quantique, Le minimum Théorique\n",
    "### Presses polytechniques et universitaires romandes\n",
    "<br>\n",
    "<img src=\"./images/susskindFriedman.jpg\" alt=\"Note: In order for images to show up in this jupyter notebook you need to select File => Trusted Notebook\" width=\"400 px\" align=\"center\">\n",
    "<br>"
   ]
  },
  {
   "cell_type": "markdown",
   "metadata": {},
   "source": [
    "## David McMahon, Quantum Computing Explained \n",
    "### Wiley\n",
    "<br>\n",
    "<img src=\"./images/mcmahon.jpg\" alt=\"Note: In order for images to show up in this jupyter notebook you need to select File => Trusted Notebook\" width=\"400 px\" align=\"center\">\n",
    "<br>"
   ]
  },
  {
   "cell_type": "markdown",
   "metadata": {},
   "source": [
    "### David Mermin, Calculs et Algorithmes Quantiques, \n",
    "#### EDP Sciences, CNRS Editions\n",
    "<br>\n",
    "<img src=\"./images/mermin.jpg\" alt=\"Note: In order for images to show up in this jupyter notebook you need to select File => Trusted Notebook\" width=\"400 px\" align=\"center\">\n",
    "<br>"
   ]
  },
  {
   "cell_type": "markdown",
   "metadata": {},
   "source": [
    "## Charles Corge, L'informatique Quantique, qu'est-ce et pour quoi faire ? \n",
    "### Ellipses\n",
    "<br>\n",
    "<img src=\"./images/corge.jpeg\" alt=\"Note: In order for images to show up in this jupyter notebook you need to select File => Trusted Notebook\" width=\"400 px\" align=\"center\">\n",
    "<br>"
   ]
  },
  {
   "cell_type": "markdown",
   "metadata": {},
   "source": [
    "## Michael A. Nielsen and Isaac L. Chuang : Quantum Computation and Quantum Information\n",
    "### Cambridge\n",
    "<br>\n",
    "<img src=\"./images/nielsenChuang.jpg\" alt=\"Note: In order for images to show up in this jupyter notebook you need to select File => Trusted Notebook\" width=\"400 px\" align=\"center\">\n",
    "<br>"
   ]
  }
 ],
 "metadata": {
  "kernelspec": {
   "display_name": "Python 3",
   "language": "python",
   "name": "python3"
  },
  "language_info": {
   "codemirror_mode": {
    "name": "ipython",
    "version": 3
   },
   "file_extension": ".py",
   "mimetype": "text/x-python",
   "name": "python",
   "nbconvert_exporter": "python",
   "pygments_lexer": "ipython3",
   "version": "3.7.1"
  }
 },
 "nbformat": 4,
 "nbformat_minor": 2
}
